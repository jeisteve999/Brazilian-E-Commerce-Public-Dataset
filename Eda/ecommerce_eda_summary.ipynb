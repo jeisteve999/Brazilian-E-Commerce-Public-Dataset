{
 "cells": [
  {
   "cell_type": "markdown",
   "id": "aec25f71",
   "metadata": {},
   "source": [
    "# 📊 Brazilian E-Commerce Dataset - Exploratory Data Analysis\n",
    "**Author:** Jeisson Steve Rojas Velásquez  \n",
    "**Date:** June 15, 2025  \n",
    "\n",
    "This notebook presents a statistical overview of key variables from the Brazilian E-Commerce Public Dataset by Olist.\n",
    "It includes summary statistics, distribution analysis, and visualizations for variables such as sales, customer spending, delivery time, and reviews."
   ]
  },
  {
   "cell_type": "code",
   "execution_count": null,
   "id": "3e00d744",
   "metadata": {},
   "outputs": [],
   "source": [
    "import pandas as pd\n",
    "import matplotlib.pyplot as plt\n",
    "import seaborn as sns\n",
    "from scipy.stats import skew, kurtosis\n",
    "\n",
    "# Settings\n",
    "sns.set(style='whitegrid')"
   ]
  },
  {
   "cell_type": "markdown",
   "id": "f085881a",
   "metadata": {},
   "source": [
    "## 📥 Load Summary Data"
   ]
  },
  {
   "cell_type": "code",
   "execution_count": null,
   "id": "599467a8",
   "metadata": {},
   "outputs": [],
   "source": [
    "eda = pd.read_csv('eda_summary.csv')\n",
    "eda"
   ]
  },
  {
   "cell_type": "markdown",
   "id": "a6ce4e9b",
   "metadata": {},
   "source": [
    "## 📋 EDA Summary Table"
   ]
  },
  {
   "cell_type": "code",
   "execution_count": null,
   "id": "e83176ef",
   "metadata": {},
   "outputs": [],
   "source": [
    "eda.style.format({\n",
    "    'Mean': '{:,.0f}', 'Max': '{:,.0f}', 'Min': '{:,.0f}', 'Mode': '{:,.0f}',\n",
    "    'Median': '{:,.0f}', 'Range': '{:,.0f}', 'StdDev': '{:,.2f}',\n",
    "    'Variance': '{:,.2e}', 'Skewness': '{:.2f}', 'Kurtosis': '{:.2f}',\n",
    "    'Q1': '{:,.0f}', 'Q3': '{:,.0f}', 'IQR': '{:,.0f}'\n",
    "})"
   ]
  },
  {
   "cell_type": "markdown",
   "id": "d1f777a4",
   "metadata": {},
   "source": [
    "## 📈 Visualizing Distributions"
   ]
  },
  {
   "cell_type": "markdown",
   "id": "8651da90",
   "metadata": {},
   "source": [
    "### Sales"
   ]
  },
  {
   "cell_type": "code",
   "execution_count": null,
   "id": "ef2f3481",
   "metadata": {},
   "outputs": [],
   "source": [
    "# Simulating a distribution (for visualization only)\n",
    "import numpy as np\n",
    "np.random.seed(0)\n",
    "simulated_data = np.random.normal(loc=eda[eda['Variable'] == 'Sales']['Mean'].values[0],\n",
    "                                    scale=eda[eda['Variable'] == 'Sales']['StdDev'].values[0],\n",
    "                                    size=1000)\n",
    "\n",
    "plt.figure(figsize=(10, 4))\n",
    "sns.histplot(simulated_data, kde=True, color='skyblue')\n",
    "plt.title('Sales Distribution (Simulated)')\n",
    "plt.xlabel('Sales')\n",
    "plt.ylabel('Frequency')\n",
    "plt.show()"
   ]
  },
  {
   "cell_type": "markdown",
   "id": "4cff7561",
   "metadata": {},
   "source": [
    "### Customers"
   ]
  },
  {
   "cell_type": "code",
   "execution_count": null,
   "id": "4d6a6dd4",
   "metadata": {},
   "outputs": [],
   "source": [
    "# Simulating a distribution (for visualization only)\n",
    "import numpy as np\n",
    "np.random.seed(0)\n",
    "simulated_data = np.random.normal(loc=eda[eda['Variable'] == 'Customers']['Mean'].values[0],\n",
    "                                    scale=eda[eda['Variable'] == 'Customers']['StdDev'].values[0],\n",
    "                                    size=1000)\n",
    "\n",
    "plt.figure(figsize=(10, 4))\n",
    "sns.histplot(simulated_data, kde=True, color='skyblue')\n",
    "plt.title('Customers Distribution (Simulated)')\n",
    "plt.xlabel('Customers')\n",
    "plt.ylabel('Frequency')\n",
    "plt.show()"
   ]
  },
  {
   "cell_type": "markdown",
   "id": "b4927707",
   "metadata": {},
   "source": [
    "### Payment"
   ]
  },
  {
   "cell_type": "code",
   "execution_count": null,
   "id": "ff0a9582",
   "metadata": {},
   "outputs": [],
   "source": [
    "# Simulating a distribution (for visualization only)\n",
    "import numpy as np\n",
    "np.random.seed(0)\n",
    "simulated_data = np.random.normal(loc=eda[eda['Variable'] == 'Payment']['Mean'].values[0],\n",
    "                                    scale=eda[eda['Variable'] == 'Payment']['StdDev'].values[0],\n",
    "                                    size=1000)\n",
    "\n",
    "plt.figure(figsize=(10, 4))\n",
    "sns.histplot(simulated_data, kde=True, color='skyblue')\n",
    "plt.title('Payment Distribution (Simulated)')\n",
    "plt.xlabel('Payment')\n",
    "plt.ylabel('Frequency')\n",
    "plt.show()"
   ]
  },
  {
   "cell_type": "markdown",
   "id": "c3f9fbe8",
   "metadata": {},
   "source": [
    "### Product"
   ]
  },
  {
   "cell_type": "code",
   "execution_count": null,
   "id": "7deb233d",
   "metadata": {},
   "outputs": [],
   "source": [
    "# Simulating a distribution (for visualization only)\n",
    "import numpy as np\n",
    "np.random.seed(0)\n",
    "simulated_data = np.random.normal(loc=eda[eda['Variable'] == 'Product']['Mean'].values[0],\n",
    "                                    scale=eda[eda['Variable'] == 'Product']['StdDev'].values[0],\n",
    "                                    size=1000)\n",
    "\n",
    "plt.figure(figsize=(10, 4))\n",
    "sns.histplot(simulated_data, kde=True, color='skyblue')\n",
    "plt.title('Product Distribution (Simulated)')\n",
    "plt.xlabel('Product')\n",
    "plt.ylabel('Frequency')\n",
    "plt.show()"
   ]
  },
  {
   "cell_type": "markdown",
   "id": "431cf320",
   "metadata": {},
   "source": [
    "### Sellers"
   ]
  },
  {
   "cell_type": "code",
   "execution_count": null,
   "id": "8c084453",
   "metadata": {},
   "outputs": [],
   "source": [
    "# Simulating a distribution (for visualization only)\n",
    "import numpy as np\n",
    "np.random.seed(0)\n",
    "simulated_data = np.random.normal(loc=eda[eda['Variable'] == 'Sellers']['Mean'].values[0],\n",
    "                                    scale=eda[eda['Variable'] == 'Sellers']['StdDev'].values[0],\n",
    "                                    size=1000)\n",
    "\n",
    "plt.figure(figsize=(10, 4))\n",
    "sns.histplot(simulated_data, kde=True, color='skyblue')\n",
    "plt.title('Sellers Distribution (Simulated)')\n",
    "plt.xlabel('Sellers')\n",
    "plt.ylabel('Frequency')\n",
    "plt.show()"
   ]
  },
  {
   "cell_type": "markdown",
   "id": "d8f8dd07",
   "metadata": {},
   "source": [
    "### Geographic"
   ]
  },
  {
   "cell_type": "code",
   "execution_count": null,
   "id": "9b7d77ff",
   "metadata": {},
   "outputs": [],
   "source": [
    "# Simulating a distribution (for visualization only)\n",
    "import numpy as np\n",
    "np.random.seed(0)\n",
    "simulated_data = np.random.normal(loc=eda[eda['Variable'] == 'Geographic']['Mean'].values[0],\n",
    "                                    scale=eda[eda['Variable'] == 'Geographic']['StdDev'].values[0],\n",
    "                                    size=1000)\n",
    "\n",
    "plt.figure(figsize=(10, 4))\n",
    "sns.histplot(simulated_data, kde=True, color='skyblue')\n",
    "plt.title('Geographic Distribution (Simulated)')\n",
    "plt.xlabel('Geographic')\n",
    "plt.ylabel('Frequency')\n",
    "plt.show()"
   ]
  },
  {
   "cell_type": "markdown",
   "id": "4d95f94b",
   "metadata": {},
   "source": [
    "### Review"
   ]
  },
  {
   "cell_type": "code",
   "execution_count": null,
   "id": "8a1dcc12",
   "metadata": {},
   "outputs": [],
   "source": [
    "# Simulating a distribution (for visualization only)\n",
    "import numpy as np\n",
    "np.random.seed(0)\n",
    "simulated_data = np.random.normal(loc=eda[eda['Variable'] == 'Review']['Mean'].values[0],\n",
    "                                    scale=eda[eda['Variable'] == 'Review']['StdDev'].values[0],\n",
    "                                    size=1000)\n",
    "\n",
    "plt.figure(figsize=(10, 4))\n",
    "sns.histplot(simulated_data, kde=True, color='skyblue')\n",
    "plt.title('Review Distribution (Simulated)')\n",
    "plt.xlabel('Review')\n",
    "plt.ylabel('Frequency')\n",
    "plt.show()"
   ]
  },
  {
   "cell_type": "markdown",
   "id": "7096215c",
   "metadata": {},
   "source": [
    "### Temporal"
   ]
  },
  {
   "cell_type": "code",
   "execution_count": null,
   "id": "237ac28b",
   "metadata": {},
   "outputs": [],
   "source": [
    "# Simulating a distribution (for visualization only)\n",
    "import numpy as np\n",
    "np.random.seed(0)\n",
    "simulated_data = np.random.normal(loc=eda[eda['Variable'] == 'Temporal']['Mean'].values[0],\n",
    "                                    scale=eda[eda['Variable'] == 'Temporal']['StdDev'].values[0],\n",
    "                                    size=1000)\n",
    "\n",
    "plt.figure(figsize=(10, 4))\n",
    "sns.histplot(simulated_data, kde=True, color='skyblue')\n",
    "plt.title('Temporal Distribution (Simulated)')\n",
    "plt.xlabel('Temporal')\n",
    "plt.ylabel('Frequency')\n",
    "plt.show()"
   ]
  }
 ],
 "metadata": {},
 "nbformat": 4,
 "nbformat_minor": 5
}
